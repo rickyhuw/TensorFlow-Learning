{
 "cells": [
  {
   "cell_type": "code",
   "execution_count": 1,
   "metadata": {},
   "outputs": [
    {
     "name": "stdout",
     "output_type": "stream",
     "text": [
      "2.1.0\n",
      "sklearn 0.20.2\n",
      "pandas 0.24.2\n",
      "tensorflow_core.python.keras.api._v2.keras 2.2.4-tf\n",
      "numpy 1.17.4\n",
      "matplotlib 2.1.2\n"
     ]
    }
   ],
   "source": [
    "import matplotlib as mlp\n",
    "import matplotlib.pyplot as plt\n",
    "%matplotlib inline\n",
    "import numpy as np\n",
    "import sklearn\n",
    "import pandas as pd\n",
    "import os\n",
    "import sys\n",
    "import time\n",
    "import tensorflow as tf\n",
    "from tensorflow import keras \n",
    "import warnings\n",
    "\n",
    "warnings.filterwarnings('ignore')\n",
    "print(tf.__version__)\n",
    "for model in sklearn, pd, keras, np ,mlp:\n",
    "    print(model.__name__, model.__version__)"
   ]
  },
  {
   "cell_type": "code",
   "execution_count": 2,
   "metadata": {},
   "outputs": [
    {
     "name": "stdout",
     "output_type": "stream",
     "text": [
      "(11610, 8) (11610,)\n",
      "(3870, 8) (3870,)\n",
      "(5160, 8) (5160,)\n"
     ]
    }
   ],
   "source": [
    "from sklearn.datasets import fetch_california_housing\n",
    "from sklearn.model_selection import train_test_split\n",
    "housing = fetch_california_housing()\n",
    "x_train_all, x_test, y_train_all, y_test = train_test_split(housing.data, housing.target, random_state=1)\n",
    "x_train, x_valid, y_train, y_valid = train_test_split(x_train_all, y_train_all, random_state=2)\n",
    "print(x_train.shape, y_train.shape)\n",
    "print(x_valid.shape, y_valid.shape)\n",
    "print(x_test.shape, y_test.shape)"
   ]
  },
  {
   "cell_type": "code",
   "execution_count": 3,
   "metadata": {},
   "outputs": [
    {
     "name": "stdout",
     "output_type": "stream",
     "text": [
      "(8,)\n"
     ]
    }
   ],
   "source": [
    "# version 0.2 数据归一化\n",
    "from sklearn.preprocessing import StandardScaler\n",
    "std = StandardScaler()\n",
    "x_train = std.fit_transform(x_train)\n",
    "x_valid = std.transform(x_valid)\n",
    "x_test = std.transform(x_test)\n",
    "print(x_train.shape[1:])"
   ]
  },
  {
   "cell_type": "code",
   "execution_count": 4,
   "metadata": {},
   "outputs": [],
   "source": [
    "\"\"\"\n",
    "# 函数式 API\n",
    "input = keras.layers.Input(shape=x_train.shape[1:])\n",
    "hidden1 = keras.layers.Dense(30, activation='relu')(input)\n",
    "hidden2 = keras.layers.Dense(30, activation='relu')(hidden1)\n",
    "\n",
    "# 假设 wide部分 和deep 部分的输入是一样的，因此需要将数据进行合并\n",
    "concat = keras.layers.concatenate([input, hidden2])\n",
    "output = keras.layers.Dense(1)(concat)\n",
    "\n",
    "# 将写好的网络结构固化下来\n",
    "model = keras.models.Model(inputs=[input],\n",
    "                           outputs=[output])\n",
    "\"\"\"\n",
    "\n",
    "# 多输入，函数式 API\n",
    "input_wide = keras.layers.Input(shape=[5])\n",
    "input_deep = keras.layers.Input(shape=[6])\n",
    "hidden1 = keras.layers.Dense(30, activation='relu')(input_deep)\n",
    "hidden2 = keras.layers.Dense(30, activation='relu')(hidden1)\n",
    "concat = keras.layers.concatenate([input_wide,hidden2])\n",
    "output = keras.layers.Dense(1)(concat)\n",
    "\n",
    "model = keras.models.Model(inputs=[input_wide, input_deep],\n",
    "                           outputs = [output])\n",
    "\n",
    "\n",
    "\n",
    "\n",
    "# sparse_categorical_crossentropy:  如果y是一个数，会把它转化成一个向量，如 y->index., y->one hot->[]\n",
    "model.compile(loss='mean_squared_error',\n",
    "              optimizer='adam')\n"
   ]
  },
  {
   "cell_type": "code",
   "execution_count": 5,
   "metadata": {},
   "outputs": [],
   "source": [
    "# version 0.3 回调函数\n",
    "# Tensorboard, Earlystopping, Modelcheckpoint\n",
    "logdir = './wide_deep_callbacks'\n",
    "if not os.path.exists(logdir):\n",
    "    os.mkdir(logdir)\n",
    "output_model_file = os.path.join(logdir,\n",
    "                                 \"housing_model.h5\")\n",
    "\n",
    "callbacks = [\n",
    "    keras.callbacks.TensorBoard(logdir),\n",
    "    keras.callbacks.ModelCheckpoint(output_model_file, save_best_only=True),\n",
    "    keras.callbacks.EarlyStopping(patience=5, min_delta=1e-3)\n",
    "]"
   ]
  },
  {
   "cell_type": "code",
   "execution_count": 6,
   "metadata": {},
   "outputs": [
    {
     "name": "stdout",
     "output_type": "stream",
     "text": [
      "Model: \"model\"\n",
      "__________________________________________________________________________________________________\n",
      "Layer (type)                    Output Shape         Param #     Connected to                     \n",
      "==================================================================================================\n",
      "input_2 (InputLayer)            [(None, 6)]          0                                            \n",
      "__________________________________________________________________________________________________\n",
      "dense (Dense)                   (None, 30)           210         input_2[0][0]                    \n",
      "__________________________________________________________________________________________________\n",
      "input_1 (InputLayer)            [(None, 5)]          0                                            \n",
      "__________________________________________________________________________________________________\n",
      "dense_1 (Dense)                 (None, 30)           930         dense[0][0]                      \n",
      "__________________________________________________________________________________________________\n",
      "concatenate (Concatenate)       (None, 35)           0           input_1[0][0]                    \n",
      "                                                                 dense_1[0][0]                    \n",
      "__________________________________________________________________________________________________\n",
      "dense_2 (Dense)                 (None, 1)            36          concatenate[0][0]                \n",
      "==================================================================================================\n",
      "Total params: 1,176\n",
      "Trainable params: 1,176\n",
      "Non-trainable params: 0\n",
      "__________________________________________________________________________________________________\n"
     ]
    }
   ],
   "source": [
    "model.summary()"
   ]
  },
  {
   "cell_type": "code",
   "execution_count": 7,
   "metadata": {},
   "outputs": [
    {
     "name": "stdout",
     "output_type": "stream",
     "text": [
      "Train on 11610 samples, validate on 3870 samples\n",
      "Epoch 1/10\n",
      "11610/11610 [==============================] - 1s 72us/sample - loss: 1.8012 - val_loss: 0.8125\n",
      "Epoch 2/10\n",
      "11610/11610 [==============================] - 1s 55us/sample - loss: 0.6837 - val_loss: 0.5977\n",
      "Epoch 3/10\n",
      "11610/11610 [==============================] - 1s 44us/sample - loss: 0.5389 - val_loss: 0.4838\n",
      "Epoch 4/10\n",
      "11610/11610 [==============================] - 0s 43us/sample - loss: 0.4640 - val_loss: 0.4283\n",
      "Epoch 5/10\n",
      "11610/11610 [==============================] - 1s 68us/sample - loss: 0.4187 - val_loss: 0.3859\n",
      "Epoch 6/10\n",
      "11610/11610 [==============================] - 1s 47us/sample - loss: 0.3822 - val_loss: 0.3638\n",
      "Epoch 7/10\n",
      "11610/11610 [==============================] - 1s 43us/sample - loss: 0.3692 - val_loss: 0.3471\n",
      "Epoch 8/10\n",
      "11610/11610 [==============================] - 1s 43us/sample - loss: 0.3556 - val_loss: 0.3402\n",
      "Epoch 9/10\n",
      "11610/11610 [==============================] - 0s 42us/sample - loss: 0.3437 - val_loss: 0.3298\n",
      "Epoch 10/10\n",
      "11610/11610 [==============================] - 0s 43us/sample - loss: 0.3435 - val_loss: 0.3253\n"
     ]
    }
   ],
   "source": [
    "\"\"\"\n",
    "# 单输入训练\n",
    "history = model.fit(x_train, y_train, epochs=10,validation_data=(x_valid, y_valid),callbacks=callbacks)\n",
    "\"\"\"\n",
    "\n",
    "# 多输入训练\n",
    "x_train_wide = x_train[:, :5]\n",
    "x_train_deep = x_train[:, 2:]\n",
    "x_valid_wide = x_valid[:, :5]\n",
    "x_valid_deep = x_valid[:, 2:]\n",
    "x_test_wide = x_test[:, :5]\n",
    "x_test_deep = x_test[:, 2:]\n",
    "history = model.fit([x_train_wide, x_train_deep],\n",
    "                    y_train,\n",
    "                    epochs=10,\n",
    "                    validation_data=([x_valid_wide, x_valid_deep],\n",
    "                                     y_valid),\n",
    "                    callbacks=callbacks)\n"
   ]
  },
  {
   "cell_type": "code",
   "execution_count": 8,
   "metadata": {},
   "outputs": [
    {
     "data": {
      "image/png": "[encoded data removed]",
      "text/plain": [
       "<matplotlib.figure.Figure at 0x13d25e908>"
      ]
     },
     "metadata": {
      "needs_background": "light"
     },
     "output_type": "display_data"
    }
   ],
   "source": [
    "def plot_learning_curve(history):\n",
    "    pd.DataFrame(history.history).plot(figsize=(8,5))\n",
    "    plt.grid(True)\n",
    "    plt.gca().set_ylim(0,1)\n",
    "    plt.show()\n",
    "    \n",
    "plot_learning_curve(history)"
   ]
  },
  {
   "cell_type": "code",
   "execution_count": 9,
   "metadata": {},
   "outputs": [
    {
     "name": "stdout",
     "output_type": "stream",
     "text": [
      "5160/5160 [==============================] - 0s 20us/sample - loss: 0.3615\n"
     ]
    },
    {
     "data": {
      "text/plain": [
       "0.36152127976565396"
      ]
     },
     "execution_count": 9,
     "metadata": {},
     "output_type": "execute_result"
    }
   ],
   "source": [
    "model.evaluate([x_test_wide, x_test_deep],\n",
    "               y_test)"
   ]
  },
  {
   "cell_type": "code",
   "execution_count": 10,
   "metadata": {},
   "outputs": [
    {
     "data": {
      "text/plain": [
       "array([[3.1777182 ],\n",
       "       [0.6539929 ],\n",
       "       [2.0863278 ],\n",
       "       ...,\n",
       "       [0.26417467],\n",
       "       [2.7958446 ],\n",
       "       [1.217457  ]], dtype=float32)"
      ]
     },
     "execution_count": 10,
     "metadata": {},
     "output_type": "execute_result"
    }
   ],
   "source": [
    "model.predict([x_test_wide, x_test_deep])"
   ]
  },
  {
   "cell_type": "code",
   "execution_count": null,
   "metadata": {},
   "outputs": [],
   "source": []
  }
 ],
 "metadata": {
  "kernelspec": {
   "display_name": "Python 3",
   "language": "python",
   "name": "python3"
  },
  "language_info": {
   "codemirror_mode": {
    "name": "ipython",
    "version": 3
   },
   "file_extension": ".py",
   "mimetype": "text/x-python",
   "name": "python",
   "nbconvert_exporter": "python",
   "pygments_lexer": "ipython3",
   "version": "3.6.8"
  }
 },
 "nbformat": 4,
 "nbformat_minor": 2
}

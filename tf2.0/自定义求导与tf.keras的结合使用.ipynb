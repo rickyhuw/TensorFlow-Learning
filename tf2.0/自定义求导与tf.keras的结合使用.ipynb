{
 "cells": [
  {
   "cell_type": "markdown",
   "metadata": {},
   "source": [
    "# 自定义求导与Keras的结合使用\n",
    "* 自定义求导主要是在模型fit的阶段进行使用\n",
    "* 在fit过程中tf帮我们做了哪些事情：\n",
    "    * 1.batch 遍历训练集，计算metric\n",
    "        - 1.1 自动求导\n",
    "    * 2.epoch 结束，遍历验证集，计算metric\n",
    "        "
   ]
  },
  {
   "cell_type": "code",
   "execution_count": 1,
   "metadata": {},
   "outputs": [
    {
     "name": "stdout",
     "output_type": "stream",
     "text": [
      "2.1.0\n",
      "sklearn 0.20.2\n",
      "pandas 0.24.2\n",
      "tensorflow_core.python.keras.api._v2.keras 2.2.4-tf\n",
      "numpy 1.17.4\n",
      "matplotlib 2.1.2\n"
     ]
    }
   ],
   "source": [
    "import matplotlib as mlp\n",
    "import matplotlib.pyplot as plt\n",
    "%matplotlib inline\n",
    "import numpy as np\n",
    "import sklearn\n",
    "import pandas as pd\n",
    "import os\n",
    "import sys\n",
    "import time\n",
    "import tensorflow as tf\n",
    "from tensorflow import keras \n",
    "import warnings\n",
    "\n",
    "warnings.filterwarnings('ignore')\n",
    "print(tf.__version__)\n",
    "for model in sklearn, pd, keras, np ,mlp:\n",
    "    print(model.__name__, model.__version__)"
   ]
  },
  {
   "cell_type": "code",
   "execution_count": 2,
   "metadata": {},
   "outputs": [
    {
     "name": "stdout",
     "output_type": "stream",
     "text": [
      "(11610, 8) (11610,)\n",
      "(3870, 8) (3870,)\n",
      "(5160, 8) (5160,)\n"
     ]
    }
   ],
   "source": [
    "from sklearn.datasets import fetch_california_housing\n",
    "from sklearn.model_selection import train_test_split\n",
    "housing = fetch_california_housing()\n",
    "x_train_all, x_test, y_train_all, y_test = train_test_split(housing.data, housing.target, random_state=1)\n",
    "x_train, x_valid, y_train, y_valid = train_test_split(x_train_all, y_train_all, random_state=2)\n",
    "print(x_train.shape, y_train.shape)\n",
    "print(x_valid.shape, y_valid.shape)\n",
    "print(x_test.shape, y_test.shape)"
   ]
  },
  {
   "cell_type": "code",
   "execution_count": 3,
   "metadata": {},
   "outputs": [],
   "source": [
    "# version 0.2 数据归一化\n",
    "from sklearn.preprocessing import StandardScaler\n",
    "std = StandardScaler()\n",
    "x_train = std.fit_transform(x_train)\n",
    "x_valid = std.transform(x_valid)\n",
    "x_test = std.transform(x_test)"
   ]
  },
  {
   "cell_type": "code",
   "execution_count": 9,
   "metadata": {},
   "outputs": [
    {
     "name": "stderr",
     "output_type": "stream",
     "text": [
      "W0219 10:44:57.914844 4641748416 base_layer.py:1790] Layer dense_4 is casting an input tensor from dtype float64 to the layer's dtype of float32, which is new behavior in TensorFlow 2.  The layer has dtype float32 because it's dtype defaults to floatx.\n",
      "\n",
      "If you intended to run this layer in float32, you can safely ignore this warning. If in doubt, this warning is likely only an issue if you are porting a TensorFlow 1.X model to TensorFlow 2.\n",
      "\n",
      "To change all layers to have dtype float64 by default, call `tf.keras.backend.set_floatx('float64')`. To change just this layer, pass dtype='float64' to the layer constructor. If you are the author of this layer, you can disable autocasting by passing autocast=False to the base Layer constructor.\n",
      "\n"
     ]
    },
    {
     "name": "stdout",
     "output_type": "stream",
     "text": [
      "Epoch  0 train mse: 1.7646081\t valid mse:  1.3964492\n",
      "Epoch  1 train mse: 1.3589876\t valid mse:  1.3664284\n",
      "Epoch  2 train mse: 1.3391879\t valid mse:  1.3507336\n",
      "Epoch  3 train mse: 1.3215915\t valid mse:  1.3452963\n",
      "Epoch  4 train mse: 1.3271685\t valid mse:  1.3430723\n",
      "Epoch  5 train mse: 1.2990948\t valid mse:  1.3418753\n",
      "Epoch  6 train mse: 1.3281983\t valid mse:  1.3461287\n",
      "Epoch  7 train mse: 1.2779781\t valid mse:  1.341186\n",
      "Epoch  8 train mse: 1.2900978\t valid mse:  1.3419476\n",
      "Epoch  9 train mse: 1.2991757\t valid mse:  1.3396543\n"
     ]
    }
   ],
   "source": [
    "# tf.keras.models.Sequential()\n",
    "# 设置一部分超参数\n",
    "epochs = 10\n",
    "batch_size = 32\n",
    "steps_per_epoch = len(x_train) // batch_size\n",
    "optimizer = keras.optimizers.SGD()\n",
    "metric = keras.metrics.MeanSquaredError()\n",
    "def random_batch(x, y, batch_size=32):\n",
    "    idx = np.random.randint(0, len(x), size=batch_size)\n",
    "    return x[idx], y[idx]\n",
    "\n",
    "# 固化模型\n",
    "model = tf.keras.models.Sequential([\n",
    "    keras.layers.Dense(30,activation='relu',input_shape=x_train.shape[1:]),\n",
    "    keras.layers.Dense(1),\n",
    "])\n",
    "\n",
    "# 模型训练\n",
    "for epoch in range(epochs):\n",
    "    metric.reset_states()\n",
    "    for step in range(steps_per_epoch):\n",
    "        x_batch, y_batch = random_batch(x_train, y_train, batch_size)\n",
    "        with tf.GradientTape() as tape:\n",
    "            y_pred = model(x_batch)\n",
    "            loss = tf.reduce_mean(keras.losses.mean_squared_error(y_batch, y_pred))\n",
    "            metric(y_batch, y_pred)\n",
    "        grads = tape.gradient(loss, model.variables)\n",
    "        grads_and_vars = zip(grads, model.variables)\n",
    "        optimizer.apply_gradients(grads_and_vars)\n",
    "        print(\"\\rEpoch \", epoch, \"train mse:\", metric.result().numpy(), end=\"\")\n",
    "    y_valid_pred = model(x_valid)\n",
    "    valid_loss = tf.reduce_mean(keras.losses.mean_squared_error(y_valid, y_valid_pred))\n",
    "    print(\"\\t\", \"valid mse: \", valid_loss.numpy())\n"
   ]
  }
 ],
 "metadata": {
  "kernelspec": {
   "display_name": "Python 3",
   "language": "python",
   "name": "python3"
  },
  "language_info": {
   "codemirror_mode": {
    "name": "ipython",
    "version": 3
   },
   "file_extension": ".py",
   "mimetype": "text/x-python",
   "name": "python",
   "nbconvert_exporter": "python",
   "pygments_lexer": "ipython3",
   "version": "3.6.8"
  }
 },
 "nbformat": 4,
 "nbformat_minor": 2
}

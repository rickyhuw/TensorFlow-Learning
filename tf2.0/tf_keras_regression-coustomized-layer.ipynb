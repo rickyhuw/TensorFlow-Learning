{
 "cells": [
  {
   "cell_type": "code",
   "execution_count": 1,
   "metadata": {},
   "outputs": [
    {
     "name": "stdout",
     "output_type": "stream",
     "text": [
      "2.1.0\n",
      "sklearn 0.20.2\n",
      "pandas 0.24.2\n",
      "tensorflow_core.python.keras.api._v2.keras 2.2.4-tf\n",
      "numpy 1.17.4\n",
      "matplotlib 2.1.2\n"
     ]
    }
   ],
   "source": [
    "import matplotlib as mlp\n",
    "import matplotlib.pyplot as plt\n",
    "%matplotlib inline\n",
    "import numpy as np\n",
    "import sklearn\n",
    "import pandas as pd\n",
    "import os\n",
    "import sys\n",
    "import time\n",
    "import tensorflow as tf\n",
    "from tensorflow import keras \n",
    "import warnings\n",
    "\n",
    "warnings.filterwarnings('ignore')\n",
    "print(tf.__version__)\n",
    "for model in sklearn, pd, keras, np ,mlp:\n",
    "    print(model.__name__, model.__version__)"
   ]
  },
  {
   "cell_type": "code",
   "execution_count": 2,
   "metadata": {},
   "outputs": [
    {
     "name": "stdout",
     "output_type": "stream",
     "text": [
      "(11610, 8) (11610,)\n",
      "(3870, 8) (3870,)\n",
      "(5160, 8) (5160,)\n"
     ]
    }
   ],
   "source": [
    "from sklearn.datasets import fetch_california_housing\n",
    "from sklearn.model_selection import train_test_split\n",
    "housing = fetch_california_housing()\n",
    "x_train_all, x_test, y_train_all, y_test = train_test_split(housing.data, housing.target, random_state=1)\n",
    "x_train, x_valid, y_train, y_valid = train_test_split(x_train_all, y_train_all, random_state=2)\n",
    "print(x_train.shape, y_train.shape)\n",
    "print(x_valid.shape, y_valid.shape)\n",
    "print(x_test.shape, y_test.shape)"
   ]
  },
  {
   "cell_type": "code",
   "execution_count": 3,
   "metadata": {},
   "outputs": [],
   "source": [
    "# version 0.2 数据归一化\n",
    "from sklearn.preprocessing import StandardScaler\n",
    "std = StandardScaler()\n",
    "x_train = std.fit_transform(x_train)\n",
    "x_valid = std.transform(x_valid)\n",
    "x_test = std.transform(x_test)"
   ]
  },
  {
   "cell_type": "code",
   "execution_count": 8,
   "metadata": {},
   "outputs": [],
   "source": [
    "# tf.keras.models.Sequential()\n",
    "# version dnn, 多层神经网络，循环添加层次。\n",
    "class CustomizedDenseLayer(keras.layers.Layer):\n",
    "    def __init__(self, units, activation=None, **kwargs):\n",
    "        self.units = units\n",
    "        self.activation = keras.layers.Activation(activation)\n",
    "        super(CustomizedDenseLayer, self).__init__(**kwargs)\n",
    "\n",
    "    def build(self, input_shape):\n",
    "        \"\"\"构建所需要的参数\"\"\"\n",
    "        self.kernel = self.add_weight(name=\"kernel\", shape=(input_shape[1], self.units), initializer='uniform',\n",
    "                                      trainable=True)\n",
    "        self.bias = self.add_weight(name='bias', shape=(self.units,), initializer='zeros', trainable=True)\n",
    "        super(CustomizedDenseLayer, self).build(input_shape)\n",
    "\n",
    "    def call(self, x):\n",
    "        \"\"\"完成正向计算\"\"\"\n",
    "        return self.activation(x @ self.kernel + self.bias)\n",
    "    def get_config(self):\n",
    "        config = {\"units\": self.units, \"activation\": self.activation}\n",
    "        base_config = super(CustomizedDenseLayer, self).get_config()\n",
    "        return dict(list(base_config.items()) + list(config.items()))\n",
    "model = tf.keras.models.Sequential([\n",
    "    CustomizedDenseLayer(30,activation='relu',input_shape=x_train.shape[1:]),\n",
    "    CustomizedDenseLayer(1),\n",
    "])\n",
    "\n",
    "# sparse_categorical_crossentropy:  如果y是一个数，会把它转化成一个向量，如 y->index., y->one hot->[]\n",
    "model.compile(loss='mean_squared_error',\n",
    "              optimizer='adam')\n"
   ]
  },
  {
   "cell_type": "code",
   "execution_count": 9,
   "metadata": {},
   "outputs": [],
   "source": [
    "# version 0.3 回调函数\n",
    "# Tensorboard, Earlystopping, Modelcheckpoint\n",
    "logdir = './reg_custome_layer_callbacks'\n",
    "if not os.path.exists(logdir):\n",
    "    os.mkdir(logdir)\n",
    "output_model_file = os.path.join(logdir,\n",
    "                                 \"housing_model.h5\")\n",
    "\n",
    "callbacks = [\n",
    "    keras.callbacks.TensorBoard(logdir),\n",
    "    keras.callbacks.ModelCheckpoint(output_model_file, save_best_only=True),\n",
    "    keras.callbacks.EarlyStopping(patience=5, min_delta=1e-3)\n",
    "]"
   ]
  },
  {
   "cell_type": "code",
   "execution_count": 10,
   "metadata": {},
   "outputs": [
    {
     "name": "stdout",
     "output_type": "stream",
     "text": [
      "Model: \"sequential_1\"\n",
      "_________________________________________________________________\n",
      "Layer (type)                 Output Shape              Param #   \n",
      "=================================================================\n",
      "customized_dense_layer_2 (Cu (None, 30)                270       \n",
      "_________________________________________________________________\n",
      "customized_dense_layer_3 (Cu (None, 1)                 31        \n",
      "=================================================================\n",
      "Total params: 301\n",
      "Trainable params: 301\n",
      "Non-trainable params: 0\n",
      "_________________________________________________________________\n"
     ]
    }
   ],
   "source": [
    "model.summary()"
   ]
  },
  {
   "cell_type": "code",
   "execution_count": 11,
   "metadata": {},
   "outputs": [
    {
     "name": "stdout",
     "output_type": "stream",
     "text": [
      "Train on 11610 samples, validate on 3870 samples\n",
      "Epoch 1/100\n",
      "11610/11610 [==============================] - 1s 80us/sample - loss: 2.0510 - val_loss: 0.6324\n",
      "Epoch 2/100\n",
      "11610/11610 [==============================] - 1s 73us/sample - loss: 0.5374 - val_loss: 0.4710\n",
      "Epoch 3/100\n",
      "11610/11610 [==============================] - 0s 38us/sample - loss: 0.4492 - val_loss: 0.4333\n",
      "Epoch 4/100\n",
      "11610/11610 [==============================] - 0s 37us/sample - loss: 0.4274 - val_loss: 0.4177\n",
      "Epoch 5/100\n",
      "11610/11610 [==============================] - 0s 39us/sample - loss: 0.4119 - val_loss: 0.4096\n",
      "Epoch 6/100\n",
      "11610/11610 [==============================] - 0s 38us/sample - loss: 0.4049 - val_loss: 0.4022\n",
      "Epoch 7/100\n",
      "11610/11610 [==============================] - 0s 37us/sample - loss: 0.3977 - val_loss: 0.3991\n",
      "Epoch 8/100\n",
      "11610/11610 [==============================] - 0s 39us/sample - loss: 0.3929 - val_loss: 0.3958\n",
      "Epoch 9/100\n",
      "11610/11610 [==============================] - 0s 38us/sample - loss: 0.3882 - val_loss: 0.3875\n",
      "Epoch 10/100\n",
      "11610/11610 [==============================] - 0s 37us/sample - loss: 0.3852 - val_loss: 0.3877\n",
      "Epoch 11/100\n",
      "11610/11610 [==============================] - 0s 38us/sample - loss: 0.3806 - val_loss: 0.3825\n",
      "Epoch 12/100\n",
      "11610/11610 [==============================] - 0s 38us/sample - loss: 0.3774 - val_loss: 0.3792\n",
      "Epoch 13/100\n",
      "11610/11610 [==============================] - 0s 39us/sample - loss: 0.3759 - val_loss: 0.3782\n",
      "Epoch 14/100\n",
      "11610/11610 [==============================] - 0s 37us/sample - loss: 0.3715 - val_loss: 0.3721\n",
      "Epoch 15/100\n",
      "11610/11610 [==============================] - 0s 39us/sample - loss: 0.3705 - val_loss: 0.3756\n",
      "Epoch 16/100\n",
      "11610/11610 [==============================] - 0s 42us/sample - loss: 0.3679 - val_loss: 0.3699\n",
      "Epoch 17/100\n",
      "11610/11610 [==============================] - 0s 39us/sample - loss: 0.3656 - val_loss: 0.3655\n",
      "Epoch 18/100\n",
      "11610/11610 [==============================] - 0s 38us/sample - loss: 0.3648 - val_loss: 0.3641\n",
      "Epoch 19/100\n",
      "11610/11610 [==============================] - 0s 37us/sample - loss: 0.3637 - val_loss: 0.3673\n",
      "Epoch 20/100\n",
      "11610/11610 [==============================] - 0s 39us/sample - loss: 0.3613 - val_loss: 0.3649\n",
      "Epoch 21/100\n",
      "11610/11610 [==============================] - 0s 37us/sample - loss: 0.3601 - val_loss: 0.3582\n",
      "Epoch 22/100\n",
      "11610/11610 [==============================] - 0s 39us/sample - loss: 0.3584 - val_loss: 0.3593\n",
      "Epoch 23/100\n",
      "11610/11610 [==============================] - 0s 38us/sample - loss: 0.3558 - val_loss: 0.3544\n",
      "Epoch 24/100\n",
      "11610/11610 [==============================] - 1s 49us/sample - loss: 0.3554 - val_loss: 0.3601\n",
      "Epoch 25/100\n",
      "11610/11610 [==============================] - 1s 59us/sample - loss: 0.3544 - val_loss: 0.3533\n",
      "Epoch 26/100\n",
      "11610/11610 [==============================] - 1s 44us/sample - loss: 0.3529 - val_loss: 0.3569\n",
      "Epoch 27/100\n",
      "11610/11610 [==============================] - 0s 37us/sample - loss: 0.3512 - val_loss: 0.3486\n",
      "Epoch 28/100\n",
      "11610/11610 [==============================] - 0s 37us/sample - loss: 0.3500 - val_loss: 0.3494\n",
      "Epoch 29/100\n",
      "11610/11610 [==============================] - 0s 36us/sample - loss: 0.3476 - val_loss: 0.3494\n",
      "Epoch 30/100\n",
      "11610/11610 [==============================] - 0s 39us/sample - loss: 0.3474 - val_loss: 0.3488\n",
      "Epoch 31/100\n",
      "11610/11610 [==============================] - 0s 37us/sample - loss: 0.3457 - val_loss: 0.3470\n",
      "Epoch 32/100\n",
      "11610/11610 [==============================] - 0s 38us/sample - loss: 0.3448 - val_loss: 0.3504\n",
      "Epoch 33/100\n",
      "11610/11610 [==============================] - 0s 38us/sample - loss: 0.3460 - val_loss: 0.3460\n",
      "Epoch 34/100\n",
      "11610/11610 [==============================] - 0s 41us/sample - loss: 0.3429 - val_loss: 0.3445\n",
      "Epoch 35/100\n",
      "11610/11610 [==============================] - 0s 39us/sample - loss: 0.3438 - val_loss: 0.3419\n",
      "Epoch 36/100\n",
      "11610/11610 [==============================] - 0s 41us/sample - loss: 0.3419 - val_loss: 0.3406\n",
      "Epoch 37/100\n",
      "11610/11610 [==============================] - 0s 38us/sample - loss: 0.3440 - val_loss: 0.3424\n",
      "Epoch 38/100\n",
      "11610/11610 [==============================] - 0s 39us/sample - loss: 0.3398 - val_loss: 0.3411\n",
      "Epoch 39/100\n",
      "11610/11610 [==============================] - 0s 39us/sample - loss: 0.3403 - val_loss: 0.3396\n",
      "Epoch 40/100\n",
      "11610/11610 [==============================] - 0s 38us/sample - loss: 0.3387 - val_loss: 0.3428\n",
      "Epoch 41/100\n",
      "11610/11610 [==============================] - 0s 37us/sample - loss: 0.3389 - val_loss: 0.3413\n",
      "Epoch 42/100\n",
      "11610/11610 [==============================] - 0s 37us/sample - loss: 0.3410 - val_loss: 0.3385\n",
      "Epoch 43/100\n",
      "11610/11610 [==============================] - 1s 56us/sample - loss: 0.3400 - val_loss: 0.3393\n",
      "Epoch 44/100\n",
      "11610/11610 [==============================] - 1s 52us/sample - loss: 0.3383 - val_loss: 0.3372\n",
      "Epoch 45/100\n",
      "11610/11610 [==============================] - 0s 39us/sample - loss: 0.3367 - val_loss: 0.3376\n",
      "Epoch 46/100\n",
      "11610/11610 [==============================] - 0s 43us/sample - loss: 0.3361 - val_loss: 0.3382\n",
      "Epoch 47/100\n",
      "11610/11610 [==============================] - 0s 41us/sample - loss: 0.3356 - val_loss: 0.3413\n",
      "Epoch 48/100\n",
      "11610/11610 [==============================] - 0s 38us/sample - loss: 0.3355 - val_loss: 0.3360\n",
      "Epoch 49/100\n",
      "11610/11610 [==============================] - 0s 38us/sample - loss: 0.3359 - val_loss: 0.3376\n",
      "Epoch 50/100\n",
      "11610/11610 [==============================] - 0s 38us/sample - loss: 0.3354 - val_loss: 0.3401\n",
      "Epoch 51/100\n",
      "11610/11610 [==============================] - 1s 64us/sample - loss: 0.3371 - val_loss: 0.3361\n",
      "Epoch 52/100\n",
      "11610/11610 [==============================] - 1s 77us/sample - loss: 0.3333 - val_loss: 0.3321\n",
      "Epoch 53/100\n",
      "11610/11610 [==============================] - 1s 50us/sample - loss: 0.3325 - val_loss: 0.3315\n",
      "Epoch 54/100\n",
      "11610/11610 [==============================] - 1s 45us/sample - loss: 0.3339 - val_loss: 0.3328\n",
      "Epoch 55/100\n",
      "11610/11610 [==============================] - 1s 47us/sample - loss: 0.3325 - val_loss: 0.3343\n",
      "Epoch 56/100\n",
      "11610/11610 [==============================] - 1s 45us/sample - loss: 0.3302 - val_loss: 0.3420\n",
      "Epoch 57/100\n",
      "11610/11610 [==============================] - 1s 47us/sample - loss: 0.3299 - val_loss: 0.3347\n"
     ]
    }
   ],
   "source": [
    "history = model.fit(x_train, y_train, epochs=100,validation_data=(x_valid, y_valid),callbacks=callbacks)"
   ]
  },
  {
   "cell_type": "code",
   "execution_count": null,
   "metadata": {},
   "outputs": [],
   "source": [
    "def plot_learning_curve(history):\n",
    "    pd.DataFrame(history.history).plot(figsize=(8,5))\n",
    "    plt.grid(True)\n",
    "    plt.gca().set_ylim(0,1)\n",
    "    plt.show()\n",
    "    \n",
    "plot_learning_curve(history)"
   ]
  },
  {
   "cell_type": "code",
   "execution_count": null,
   "metadata": {},
   "outputs": [],
   "source": [
    "model.evaluate(x_test,y_test)"
   ]
  },
  {
   "cell_type": "code",
   "execution_count": null,
   "metadata": {},
   "outputs": [],
   "source": []
  }
 ],
 "metadata": {
  "kernelspec": {
   "display_name": "Python 3",
   "language": "python",
   "name": "python3"
  },
  "language_info": {
   "codemirror_mode": {
    "name": "ipython",
    "version": 3
   },
   "file_extension": ".py",
   "mimetype": "text/x-python",
   "name": "python",
   "nbconvert_exporter": "python",
   "pygments_lexer": "ipython3",
   "version": "3.6.8"
  }
 },
 "nbformat": 4,
 "nbformat_minor": 2
}

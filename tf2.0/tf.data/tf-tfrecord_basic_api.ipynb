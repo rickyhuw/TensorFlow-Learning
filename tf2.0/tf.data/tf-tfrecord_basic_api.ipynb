{
 "cells": [
  {
   "cell_type": "code",
   "execution_count": 1,
   "metadata": {},
   "outputs": [
    {
     "name": "stdout",
     "output_type": "stream",
     "text": [
      "2.1.0\n",
      "sklearn 0.20.2\n",
      "pandas 0.24.2\n",
      "tensorflow_core.python.keras.api._v2.keras 2.2.4-tf\n",
      "numpy 1.17.4\n",
      "matplotlib 2.1.2\n"
     ]
    }
   ],
   "source": [
    "import matplotlib as mlp\n",
    "import matplotlib.pyplot as plt\n",
    "%matplotlib inline\n",
    "import numpy as np\n",
    "import sklearn\n",
    "import pandas as pd\n",
    "import os\n",
    "import sys\n",
    "import time\n",
    "import tensorflow as tf\n",
    "from tensorflow import keras \n",
    "import warnings\n",
    "\n",
    "warnings.filterwarnings('ignore')\n",
    "print(tf.__version__)\n",
    "for model in sklearn, pd, keras, np ,mlp:\n",
    "    print(model.__name__, model.__version__)"
   ]
  },
  {
   "cell_type": "code",
   "execution_count": 12,
   "metadata": {},
   "outputs": [
    {
     "name": "stdout",
     "output_type": "stream",
     "text": [
      "value: \"Machine Learning\"\n",
      "value: \"AA\"\n",
      "\n",
      "value: 15.300000190734863\n",
      "value: 9.199999809265137\n",
      "value: 8.5\n",
      "\n",
      "value: 23\n",
      "\n",
      "feature {\n",
      "  key: \"age_int64List\"\n",
      "  value {\n",
      "    int64_list {\n",
      "      value: 23\n",
      "    }\n",
      "  }\n",
      "}\n",
      "feature {\n",
      "  key: \"favorite_books\"\n",
      "  value {\n",
      "    bytes_list {\n",
      "      value: \"Machine Learning\"\n",
      "      value: \"AA\"\n",
      "    }\n",
      "  }\n",
      "}\n",
      "feature {\n",
      "  key: \"hour_floatList\"\n",
      "  value {\n",
      "    float_list {\n",
      "      value: 15.300000190734863\n",
      "      value: 9.199999809265137\n",
      "      value: 8.5\n",
      "    }\n",
      "  }\n",
      "}\n",
      "\n"
     ]
    }
   ],
   "source": [
    "\"\"\"\n",
    "tfrecord 格式\n",
    "-> tf.train.Example\n",
    "    -> tf.train.Features -> {\"key\": tf.train.Feature}\n",
    "        -> tf.train.Feature -> tf.train.ByteList/ FloatList/ Int64.List\n",
    "\"\"\"\n",
    "favorite_books = [name.encode('utf-8') for name in [\"Machine Learning\", \"AA\"]]\n",
    "favorite_books_byteList = tf.train.BytesList(value=favorite_books)\n",
    "print(favorite_books_byteList)\n",
    "\n",
    "hour_floatList = tf.train.FloatList(value=[15.3, 9.2, 8.5])\n",
    "print(hour_floatList)\n",
    "\n",
    "age_int64List = tf.train.Int64List(value=[23])\n",
    "print(age_int64List)\n",
    "\n",
    "features = tf.train.Features(\n",
    "    feature = {\n",
    "        \"favorite_books\": tf.train.Feature(bytes_list=favorite_books_byteList),\n",
    "        \"hour_floatList\": tf.train.Feature(float_list=hour_floatList),\n",
    "        \"age_int64List\": tf.train.Feature(int64_list=age_int64List)\n",
    "    }\n",
    ")\n",
    "print(features)"
   ]
  },
  {
   "cell_type": "code",
   "execution_count": 13,
   "metadata": {},
   "outputs": [
    {
     "name": "stdout",
     "output_type": "stream",
     "text": [
      "features {\n",
      "  feature {\n",
      "    key: \"age_int64List\"\n",
      "    value {\n",
      "      int64_list {\n",
      "        value: 23\n",
      "      }\n",
      "    }\n",
      "  }\n",
      "  feature {\n",
      "    key: \"favorite_books\"\n",
      "    value {\n",
      "      bytes_list {\n",
      "        value: \"Machine Learning\"\n",
      "        value: \"AA\"\n",
      "      }\n",
      "    }\n",
      "  }\n",
      "  feature {\n",
      "    key: \"hour_floatList\"\n",
      "    value {\n",
      "      float_list {\n",
      "        value: 15.300000190734863\n",
      "        value: 9.199999809265137\n",
      "        value: 8.5\n",
      "      }\n",
      "    }\n",
      "  }\n",
      "}\n",
      "\n",
      "b'\\nh\\n\"\\n\\x0ehour_floatList\\x12\\x10\\x12\\x0e\\n\\x0c\\xcd\\xcctA33\\x13A\\x00\\x00\\x08A\\n*\\n\\x0efavorite_books\\x12\\x18\\n\\x16\\n\\x10Machine Learning\\n\\x02AA\\n\\x16\\n\\rage_int64List\\x12\\x05\\x1a\\x03\\n\\x01\\x17'\n"
     ]
    }
   ],
   "source": [
    "# 有了features就可以生产Example\n",
    "example = tf.train.Example(features=features)\n",
    "print(example)\n",
    "\n",
    "# 序列化\n",
    "serialized_example = example.SerializeToString()\n",
    "print(serialized_example)"
   ]
  },
  {
   "cell_type": "code",
   "execution_count": 14,
   "metadata": {},
   "outputs": [],
   "source": [
    "# 将tfrecord保存到文件\n",
    "output_dir = 'tfrecord_basic'\n",
    "if not os.path.exists(output_dir):\n",
    "    os.mkdir(output_dir)\n",
    "filename = \"test.tfrecord\"\n",
    "filename_fullpath = os.path.join(output_dir, filename)\n",
    "with tf.io.TFRecordWriter(filename_fullpath) as writer:\n",
    "    for i in range(3):\n",
    "        writer.write(serialized_example)"
   ]
  },
  {
   "cell_type": "code",
   "execution_count": 15,
   "metadata": {},
   "outputs": [
    {
     "name": "stdout",
     "output_type": "stream",
     "text": [
      "tf.Tensor(b'\\nh\\n\"\\n\\x0ehour_floatList\\x12\\x10\\x12\\x0e\\n\\x0c\\xcd\\xcctA33\\x13A\\x00\\x00\\x08A\\n*\\n\\x0efavorite_books\\x12\\x18\\n\\x16\\n\\x10Machine Learning\\n\\x02AA\\n\\x16\\n\\rage_int64List\\x12\\x05\\x1a\\x03\\n\\x01\\x17', shape=(), dtype=string)\n",
      "tf.Tensor(b'\\nh\\n\"\\n\\x0ehour_floatList\\x12\\x10\\x12\\x0e\\n\\x0c\\xcd\\xcctA33\\x13A\\x00\\x00\\x08A\\n*\\n\\x0efavorite_books\\x12\\x18\\n\\x16\\n\\x10Machine Learning\\n\\x02AA\\n\\x16\\n\\rage_int64List\\x12\\x05\\x1a\\x03\\n\\x01\\x17', shape=(), dtype=string)\n",
      "tf.Tensor(b'\\nh\\n\"\\n\\x0ehour_floatList\\x12\\x10\\x12\\x0e\\n\\x0c\\xcd\\xcctA33\\x13A\\x00\\x00\\x08A\\n*\\n\\x0efavorite_books\\x12\\x18\\n\\x16\\n\\x10Machine Learning\\n\\x02AA\\n\\x16\\n\\rage_int64List\\x12\\x05\\x1a\\x03\\n\\x01\\x17', shape=(), dtype=string)\n"
     ]
    }
   ],
   "source": [
    "# 从文件中读取tfrecord\n",
    "dataset = tf.data.TFRecordDataset([filename_fullpath])\n",
    "for i in dataset:\n",
    "    print(i)"
   ]
  },
  {
   "cell_type": "code",
   "execution_count": 25,
   "metadata": {},
   "outputs": [
    {
     "name": "stdout",
     "output_type": "stream",
     "text": [
      "{'age': <tensorflow.python.framework.sparse_tensor.SparseTensor object at 0x13f08ed30>, 'favorite_books': <tensorflow.python.framework.sparse_tensor.SparseTensor object at 0x13f08e978>, 'hour': <tensorflow.python.framework.sparse_tensor.SparseTensor object at 0x13f08ef28>}\n",
      "Machine Learning\n",
      "AA\n",
      "{'age': <tensorflow.python.framework.sparse_tensor.SparseTensor object at 0x13f08e7f0>, 'favorite_books': <tensorflow.python.framework.sparse_tensor.SparseTensor object at 0x13f08e898>, 'hour': <tensorflow.python.framework.sparse_tensor.SparseTensor object at 0x13f08e780>}\n",
      "Machine Learning\n",
      "AA\n",
      "{'age': <tensorflow.python.framework.sparse_tensor.SparseTensor object at 0x13f08ea58>, 'favorite_books': <tensorflow.python.framework.sparse_tensor.SparseTensor object at 0x13f08e7b8>, 'hour': <tensorflow.python.framework.sparse_tensor.SparseTensor object at 0x13f08ea20>}\n",
      "Machine Learning\n",
      "AA\n"
     ]
    }
   ],
   "source": [
    "# 将数据解析成可以理解的格式\n",
    "    # 1. 定义期望解析的类型,(是否定长，什么类型 etc.)\n",
    "    # 2. 解析出的结果会是稀疏的tensor，可以将其转化为非稀疏的tensor\n",
    "expected_feature = {\n",
    "    \"favorite_books\": tf.io.VarLenFeature(dtype=tf.string),\n",
    "    \"hour\": tf.io.VarLenFeature(dtype=tf.float32),\n",
    "    \"age\": tf.io.VarLenFeature(dtype=tf.int64),\n",
    "}\n",
    "dataset = tf.data.TFRecordDataset([filename_fullpath])\n",
    "for serialized_example_tensor in dataset:\n",
    "    example = tf.io.parse_single_example(serialized_example_tensor, expected_feature)\n",
    "    print(example)\n",
    "    # 稠密向量,0的位置默认填充\n",
    "    books = tf.sparse.to_dense(example['favorite_books'], default_value='')\n",
    "    for book in books:\n",
    "        print(book.numpy().decode(\"utf-8\"))"
   ]
  },
  {
   "cell_type": "code",
   "execution_count": 26,
   "metadata": {},
   "outputs": [],
   "source": [
    "# 保存成压缩文件\n",
    "filename_fullpath_zip = filename_fullpath + \".zip\"\n",
    "options = tf.io.TFRecordOptions(compression_type='GZIP')\n",
    "with tf.io.TFRecordWriter(filename_fullpath_zip, options=options) as writer:\n",
    "    for i in range(3):\n",
    "        writer.write(serialized_example)"
   ]
  },
  {
   "cell_type": "code",
   "execution_count": 27,
   "metadata": {},
   "outputs": [
    {
     "name": "stdout",
     "output_type": "stream",
     "text": [
      "{'age': <tensorflow.python.framework.sparse_tensor.SparseTensor object at 0x13f098e80>, 'favorite_books': <tensorflow.python.framework.sparse_tensor.SparseTensor object at 0x13f098d68>, 'hour': <tensorflow.python.framework.sparse_tensor.SparseTensor object at 0x13f098d30>}\n",
      "Machine Learning\n",
      "AA\n",
      "{'age': <tensorflow.python.framework.sparse_tensor.SparseTensor object at 0x13f098cc0>, 'favorite_books': <tensorflow.python.framework.sparse_tensor.SparseTensor object at 0x13f098c88>, 'hour': <tensorflow.python.framework.sparse_tensor.SparseTensor object at 0x13f098c50>}\n",
      "Machine Learning\n",
      "AA\n",
      "{'age': <tensorflow.python.framework.sparse_tensor.SparseTensor object at 0x13f098cf8>, 'favorite_books': <tensorflow.python.framework.sparse_tensor.SparseTensor object at 0x13f098c18>, 'hour': <tensorflow.python.framework.sparse_tensor.SparseTensor object at 0x13f098be0>}\n",
      "Machine Learning\n",
      "AA\n"
     ]
    }
   ],
   "source": [
    "# 压缩文件读取\n",
    "dataset_zip = tf.data.TFRecordDataset([filename_fullpath_zip], compression_type=\"GZIP\")\n",
    "for serialized_example_tensor in dataset_zip:\n",
    "    example = tf.io.parse_single_example(serialized_example_tensor, expected_feature)\n",
    "    print(example)\n",
    "    # 稠密向量,0的位置默认填充\n",
    "    books = tf.sparse.to_dense(example['favorite_books'], default_value='')\n",
    "    for book in books:\n",
    "        print(book.numpy().decode(\"utf-8\"))"
   ]
  },
  {
   "cell_type": "code",
   "execution_count": null,
   "metadata": {},
   "outputs": [],
   "source": []
  }
 ],
 "metadata": {
  "kernelspec": {
   "display_name": "Python 3",
   "language": "python",
   "name": "python3"
  },
  "language_info": {
   "codemirror_mode": {
    "name": "ipython",
    "version": 3
   },
   "file_extension": ".py",
   "mimetype": "text/x-python",
   "name": "python",
   "nbconvert_exporter": "python",
   "pygments_lexer": "ipython3",
   "version": "3.6.8"
  }
 },
 "nbformat": 4,
 "nbformat_minor": 2
}

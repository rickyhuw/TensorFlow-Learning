{
 "cells": [
  {
   "cell_type": "code",
   "execution_count": 1,
   "metadata": {},
   "outputs": [
    {
     "name": "stdout",
     "output_type": "stream",
     "text": [
      "2.1.0\n",
      "sklearn 0.20.2\n",
      "pandas 0.24.2\n",
      "tensorflow_core.python.keras.api._v2.keras 2.2.4-tf\n",
      "numpy 1.17.4\n",
      "matplotlib 2.1.2\n"
     ]
    }
   ],
   "source": [
    "import matplotlib as mlp\n",
    "import matplotlib.pyplot as plt\n",
    "%matplotlib inline\n",
    "import numpy as np\n",
    "import sklearn\n",
    "import pandas as pd\n",
    "import os\n",
    "import sys\n",
    "import time\n",
    "import tensorflow as tf\n",
    "from tensorflow import keras \n",
    "import warnings\n",
    "\n",
    "warnings.filterwarnings('ignore')\n",
    "print(tf.__version__)\n",
    "for model in sklearn, pd, keras, np ,mlp:\n",
    "    print(model.__name__, model.__version__)"
   ]
  },
  {
   "cell_type": "code",
   "execution_count": 2,
   "metadata": {},
   "outputs": [
    {
     "name": "stdout",
     "output_type": "stream",
     "text": [
      "(11610, 8) (11610,)\n",
      "(3870, 8) (3870,)\n",
      "(5160, 8) (5160,)\n"
     ]
    }
   ],
   "source": [
    "from sklearn.datasets import fetch_california_housing\n",
    "from sklearn.model_selection import train_test_split\n",
    "housing = fetch_california_housing()\n",
    "x_train_all, x_test, y_train_all, y_test = train_test_split(housing.data, housing.target, random_state=1)\n",
    "x_train, x_valid, y_train, y_valid = train_test_split(x_train_all, y_train_all, random_state=2)\n",
    "print(x_train.shape, y_train.shape)\n",
    "print(x_valid.shape, y_valid.shape)\n",
    "print(x_test.shape, y_test.shape)"
   ]
  },
  {
   "cell_type": "code",
   "execution_count": 3,
   "metadata": {},
   "outputs": [],
   "source": [
    "# version 0.2 数据归一化\n",
    "from sklearn.preprocessing import StandardScaler\n",
    "std = StandardScaler()\n",
    "x_train = std.fit_transform(x_train)\n",
    "x_valid = std.transform(x_valid)\n",
    "x_test = std.transform(x_test)"
   ]
  },
  {
   "cell_type": "code",
   "execution_count": 4,
   "metadata": {},
   "outputs": [],
   "source": [
    "output_dir = \"generate_csv\"\n",
    "if not os.path.exists(output_dir):\n",
    "    os.mkdir(output_dir)\n",
    "    \n",
    "def save_to_csv(output_dir, data, name_prefix, header=None, n_parts=10):\n",
    "    path_format = os.path.join(output_dir, \"{}_{:02d}.csv\")\n",
    "    filenames = []\n",
    "    for file_idx, row_indices in enumerate(np.array_split(np.arange(len(data)), n_parts)):\n",
    "        part_csv = path_format.format(name_prefix, file_idx)\n",
    "        filenames.append(part_csv)\n",
    "        with open(part_csv, \"wt\") as f:\n",
    "            if header is not None:\n",
    "                f.write(header + \"\\n\")\n",
    "            for row_index in row_indices:\n",
    "                f.write(\",\".join([repr(col) for col in data[row_index]]))\n",
    "                f.write(\"\\n\")\n",
    "    return filenames\n",
    "\n",
    "train_data = np.c_[x_train, y_train]\n",
    "valid_data = np.c_[x_valid, y_valid]\n",
    "test_data = np.c_[x_test, y_test]\n",
    "header_cols = housing.feature_names + [\"MidianHouseValue\"]\n",
    "header_str = \",\".join(header_cols)\n",
    "\n",
    "# 调用一下\n",
    "train_filenames = save_to_csv(output_dir, train_data, \"train\", header_str, n_parts=20)\n",
    "valid_filenames = save_to_csv(output_dir, valid_data, \"valid\", header_str, n_parts=10)\n",
    "test_filenames = save_to_csv(output_dir, test_data, \"test\", header_str, n_parts=10)"
   ]
  },
  {
   "cell_type": "code",
   "execution_count": 5,
   "metadata": {},
   "outputs": [],
   "source": [
    "# 按行进行解析\n",
    "def parse_csv_line(line, n_files=9):\n",
    "    defs = [tf.constant(np.nan)] * n_files\n",
    "    parsed_files = tf.io.decode_csv(line, record_defaults=defs)\n",
    "    x = tf.stack(parsed_files[0: -1])\n",
    "    y = tf.stack(parsed_files[-1:])\n",
    "    return x, y"
   ]
  },
  {
   "cell_type": "code",
   "execution_count": 6,
   "metadata": {},
   "outputs": [
    {
     "name": "stdout",
     "output_type": "stream",
     "text": [
      "<tf.Tensor: shape=(4, 8), dtype=float32, numpy=\n",
      "array([[-1.35126102e+00,  1.11294657e-01,  1.12158895e+00,\n",
      "         1.93051875e+00, -1.15190125e+00, -8.89746919e-02,\n",
      "        -6.70757830e-01,  2.02953243e+00],\n",
      "       [-7.85175741e-01,  1.21953666e+00, -5.57945311e-01,\n",
      "         1.02853246e-01, -1.93127066e-01,  2.42305305e-02,\n",
      "        -7.22014666e-01,  7.07786083e-01],\n",
      "       [-2.78776318e-01,  2.69614935e-01, -4.45636868e-01,\n",
      "        -9.52067673e-02,  1.23174262e+00, -2.79986411e-02,\n",
      "        -7.26674438e-01,  7.62444735e-01],\n",
      "       [ 9.63677406e-01,  3.48775089e-01,  6.09247744e-01,\n",
      "        -6.16605356e-02,  9.39735398e-02,  1.78335398e-03,\n",
      "        -1.39767349e+00,  1.26431084e+00]], dtype=float32)>\n",
      "<tf.Tensor: shape=(4, 1), dtype=float32, numpy=\n",
      "array([[0.425],\n",
      "       [1.522],\n",
      "       [2.141],\n",
      "       [2.346]], dtype=float32)>\n",
      "<tf.Tensor: shape=(4, 8), dtype=float32, numpy=\n",
      "array([[ 0.03283366,  0.50709534,  0.00174462, -0.22257158, -0.7035281 ,\n",
      "         0.01396988, -0.7453133 ,  0.8320103 ],\n",
      "       [ 0.53997713,  1.2986968 ,  0.16500562,  0.05307467, -0.553775  ,\n",
      "        -0.03223578, -0.8524867 ,  0.7375999 ],\n",
      "       [ 0.00392084, -1.7093886 ,  1.1476462 ,  0.75252277, -0.34996906,\n",
      "        -0.05256044,  1.4680516 , -1.4636543 ],\n",
      "       [-0.37742004, -0.12618576, -0.528772  ,  0.00988395,  1.6996102 ,\n",
      "        -0.0119071 , -0.80588955,  0.6183446 ]], dtype=float32)>\n",
      "<tf.Tensor: shape=(4, 1), dtype=float32, numpy=\n",
      "array([[1.875],\n",
      "       [2.228],\n",
      "       [1.321],\n",
      "       [2.045]], dtype=float32)>\n",
      "<tf.Tensor: shape=(4, 8), dtype=float32, numpy=\n",
      "array([[ 0.7273258 , -0.2053459 ,  0.3270066 , -0.19203146, -0.09388241,\n",
      "        -0.00759416,  1.0766355 , -1.1804229 ],\n",
      "       [ 0.12169804,  1.8528178 , -0.549764  , -0.08847411, -0.14439085,\n",
      "        -0.11608857,  0.9974203 , -1.4040266 ],\n",
      "       [-0.50795287,  0.66541564, -0.49364704, -0.0634541 , -0.68403363,\n",
      "        -0.1100402 , -1.3277777 ,  1.1649314 ],\n",
      "       [ 0.25329387,  1.0612164 ,  0.04623711,  0.01701636, -0.6423863 ,\n",
      "        -0.05022889, -0.72667444,  0.76741374]], dtype=float32)>\n",
      "<tf.Tensor: shape=(4, 1), dtype=float32, numpy=\n",
      "array([[2.132],\n",
      "       [4.667],\n",
      "       [3.265],\n",
      "       [2.836]], dtype=float32)>\n"
     ]
    }
   ],
   "source": [
    "# 将整个过程整合成一个函数\n",
    "def csv_reader_dateset(filenames, n_reader=5, batch_size=32, n_parse_threads=5, shuffle_buffer_size=10000):\n",
    "    # 将文件名字进行合并\n",
    "    dataset = tf.data.Dataset.list_files(filenames)\n",
    "    # 对数据集进行无限次重复\n",
    "    dataset = dataset.repeat()\n",
    "    # 按行读取每个文件，并跳过第一行，将读取的数据，合并成一个数据集\n",
    "    dataset = dataset.interleave(\n",
    "        lambda filename: tf.data.TextLineDataset(filename).skip(1),\n",
    "        cycle_length=n_reader\n",
    "    )\n",
    "    # shuffle\n",
    "    dataset.shuffle(shuffle_buffer_size)\n",
    "    # 将字符串转化成需要的类型（Tensor）,将数据中每行数据传给'parse_csv_line'，并行处理\n",
    "    dataset = dataset.map(parse_csv_line, num_parallel_calls=n_parse_threads)\n",
    "    # 按batch 生成数据\n",
    "    dataset = dataset.batch(batch_size)\n",
    "    return dataset\n",
    "    \n",
    "# 简单测试一下\n",
    "import pprint\n",
    "trainset = csv_reader_dateset(train_filenames, batch_size=4)\n",
    "for x, y in trainset.take(3):\n",
    "    pprint.pprint(x)\n",
    "    pprint.pprint(y)"
   ]
  },
  {
   "cell_type": "code",
   "execution_count": 7,
   "metadata": {},
   "outputs": [],
   "source": [
    "batch_size = 32\n",
    "train_set = csv_reader_dateset(filenames=train_filenames, batch_size=batch_size)\n",
    "valid_set = csv_reader_dateset(filenames=valid_filenames, batch_size=batch_size)\n",
    "test_set = csv_reader_dateset(filenames=test_filenames, batch_size=batch_size)"
   ]
  },
  {
   "cell_type": "code",
   "execution_count": 8,
   "metadata": {},
   "outputs": [],
   "source": [
    "# tf.keras.models.Sequential()\n",
    "# version dnn, 多层神经网络，循环添加层次。\n",
    "model = tf.keras.models.Sequential([\n",
    "    keras.layers.Dense(30,activation='relu',input_shape=[8]),\n",
    "    keras.layers.Dense(1),\n",
    "])\n",
    "\n",
    "# sparse_categorical_crossentropy:  如果y是一个数，会把它转化成一个向量，如 y->index., y->one hot->[]\n",
    "model.compile(loss='mean_squared_error',\n",
    "              optimizer='adam')\n"
   ]
  },
  {
   "cell_type": "code",
   "execution_count": 9,
   "metadata": {},
   "outputs": [],
   "source": [
    "# version 0.3 回调函数\n",
    "# Tensorboard, Earlystopping, Modelcheckpoint\n",
    "logdir = './reg_callbacks'\n",
    "if not os.path.exists(logdir):\n",
    "    os.mkdir(logdir)\n",
    "output_model_file = os.path.join(logdir,\n",
    "                                 \"housing_model.h5\")\n",
    "\n",
    "callbacks = [\n",
    "#     keras.callbacks.TensorBoard(logdir),\n",
    "#     keras.callbacks.ModelCheckpoint(output_model_file, save_best_only=True),\n",
    "    keras.callbacks.EarlyStopping(patience=5, min_delta=1e-3)\n",
    "]"
   ]
  },
  {
   "cell_type": "code",
   "execution_count": 10,
   "metadata": {},
   "outputs": [
    {
     "name": "stdout",
     "output_type": "stream",
     "text": [
      "Model: \"sequential\"\n",
      "_________________________________________________________________\n",
      "Layer (type)                 Output Shape              Param #   \n",
      "=================================================================\n",
      "dense (Dense)                (None, 30)                270       \n",
      "_________________________________________________________________\n",
      "dense_1 (Dense)              (None, 1)                 31        \n",
      "=================================================================\n",
      "Total params: 301\n",
      "Trainable params: 301\n",
      "Non-trainable params: 0\n",
      "_________________________________________________________________\n"
     ]
    }
   ],
   "source": [
    "model.summary()"
   ]
  },
  {
   "cell_type": "code",
   "execution_count": 11,
   "metadata": {
    "scrolled": true
   },
   "outputs": [
    {
     "name": "stdout",
     "output_type": "stream",
     "text": [
      "Train for 348 steps, validate for 120 steps\n",
      "Epoch 1/100\n",
      "348/348 [==============================] - 1s 2ms/step - loss: 2.0161 - val_loss: 0.6846\n",
      "Epoch 2/100\n",
      "348/348 [==============================] - 1s 2ms/step - loss: 0.6234 - val_loss: 0.5238\n",
      "Epoch 3/100\n",
      "348/348 [==============================] - 1s 2ms/step - loss: 0.4901 - val_loss: 0.4580\n",
      "Epoch 4/100\n",
      "348/348 [==============================] - 1s 1ms/step - loss: 0.4425 - val_loss: 0.4341\n",
      "Epoch 5/100\n",
      "348/348 [==============================] - 0s 1ms/step - loss: 0.4296 - val_loss: 0.4122\n",
      "Epoch 6/100\n",
      "348/348 [==============================] - 0s 1ms/step - loss: 0.4200 - val_loss: 0.4002\n",
      "Epoch 7/100\n",
      "348/348 [==============================] - 1s 1ms/step - loss: 0.3943 - val_loss: 0.3889\n",
      "Epoch 8/100\n",
      "348/348 [==============================] - 1s 2ms/step - loss: 0.3894 - val_loss: 0.3828\n",
      "Epoch 9/100\n",
      "348/348 [==============================] - 1s 1ms/step - loss: 0.3890 - val_loss: 0.3800\n",
      "Epoch 10/100\n",
      "348/348 [==============================] - 1s 1ms/step - loss: 0.3789 - val_loss: 0.3750\n",
      "Epoch 11/100\n",
      "348/348 [==============================] - 1s 1ms/step - loss: 0.3774 - val_loss: 0.3658\n",
      "Epoch 12/100\n",
      "348/348 [==============================] - 1s 1ms/step - loss: 0.3812 - val_loss: 0.3633\n",
      "Epoch 13/100\n",
      "348/348 [==============================] - 1s 2ms/step - loss: 0.3542 - val_loss: 0.3608\n",
      "Epoch 14/100\n",
      "348/348 [==============================] - 1s 2ms/step - loss: 0.3740 - val_loss: 0.3613\n",
      "Epoch 15/100\n",
      "348/348 [==============================] - 1s 2ms/step - loss: 0.3546 - val_loss: 0.3556\n",
      "Epoch 16/100\n",
      "348/348 [==============================] - 1s 2ms/step - loss: 0.3503 - val_loss: 0.3521\n",
      "Epoch 17/100\n",
      "348/348 [==============================] - 1s 2ms/step - loss: 0.3637 - val_loss: 0.3492\n",
      "Epoch 18/100\n",
      "348/348 [==============================] - 0s 1ms/step - loss: 0.3498 - val_loss: 0.3460\n",
      "Epoch 19/100\n",
      "348/348 [==============================] - 0s 1ms/step - loss: 0.3541 - val_loss: 0.3476\n",
      "Epoch 20/100\n",
      "348/348 [==============================] - 1s 2ms/step - loss: 0.3452 - val_loss: 0.3476\n",
      "Epoch 21/100\n",
      "348/348 [==============================] - 0s 1ms/step - loss: 0.3467 - val_loss: 0.3430\n",
      "Epoch 22/100\n",
      "348/348 [==============================] - 0s 1ms/step - loss: 0.3432 - val_loss: 0.3422\n",
      "Epoch 23/100\n",
      "348/348 [==============================] - 1s 2ms/step - loss: 0.3411 - val_loss: 0.3404\n",
      "Epoch 24/100\n",
      "348/348 [==============================] - 1s 2ms/step - loss: 0.3399 - val_loss: 0.3425\n",
      "Epoch 25/100\n",
      "348/348 [==============================] - 0s 1ms/step - loss: 0.3381 - val_loss: 0.3360\n",
      "Epoch 26/100\n",
      "348/348 [==============================] - 0s 1ms/step - loss: 0.3384 - val_loss: 0.3343\n",
      "Epoch 27/100\n",
      "348/348 [==============================] - 1s 1ms/step - loss: 0.3392 - val_loss: 0.3331\n",
      "Epoch 28/100\n",
      "348/348 [==============================] - 1s 1ms/step - loss: 0.3350 - val_loss: 0.3324\n",
      "Epoch 29/100\n",
      "348/348 [==============================] - 1s 2ms/step - loss: 0.3257 - val_loss: 0.3288\n",
      "Epoch 30/100\n",
      "348/348 [==============================] - 0s 1ms/step - loss: 0.3331 - val_loss: 0.3260\n",
      "Epoch 31/100\n",
      "348/348 [==============================] - 0s 1ms/step - loss: 0.3206 - val_loss: 0.3323\n",
      "Epoch 32/100\n",
      "348/348 [==============================] - 1s 2ms/step - loss: 0.3363 - val_loss: 0.3267\n",
      "Epoch 33/100\n",
      "348/348 [==============================] - 1s 1ms/step - loss: 0.3295 - val_loss: 0.3278\n",
      "Epoch 34/100\n",
      "348/348 [==============================] - 1s 1ms/step - loss: 0.3251 - val_loss: 0.3222\n",
      "Epoch 35/100\n",
      "348/348 [==============================] - 1s 2ms/step - loss: 0.3195 - val_loss: 0.3235\n",
      "Epoch 36/100\n",
      "348/348 [==============================] - 1s 1ms/step - loss: 0.3227 - val_loss: 0.3228\n",
      "Epoch 37/100\n",
      "348/348 [==============================] - 1s 2ms/step - loss: 0.3313 - val_loss: 0.3248\n",
      "Epoch 38/100\n",
      "348/348 [==============================] - 0s 1ms/step - loss: 0.3122 - val_loss: 0.3248\n",
      "Epoch 39/100\n",
      "348/348 [==============================] - 0s 1ms/step - loss: 0.3304 - val_loss: 0.3194\n",
      "Epoch 40/100\n",
      "348/348 [==============================] - 1s 2ms/step - loss: 0.3202 - val_loss: 0.3153\n",
      "Epoch 41/100\n",
      "348/348 [==============================] - 1s 2ms/step - loss: 0.3193 - val_loss: 0.3152\n",
      "Epoch 42/100\n",
      "348/348 [==============================] - 0s 1ms/step - loss: 0.3192 - val_loss: 0.3177\n",
      "Epoch 43/100\n",
      "348/348 [==============================] - 1s 2ms/step - loss: 0.3152 - val_loss: 0.3174\n",
      "Epoch 44/100\n",
      "348/348 [==============================] - 1s 1ms/step - loss: 0.3206 - val_loss: 0.3174\n",
      "Epoch 45/100\n",
      "348/348 [==============================] - 1s 2ms/step - loss: 0.3107 - val_loss: 0.3227\n"
     ]
    }
   ],
   "source": [
    "history = model.fit(train_set, \n",
    "                    epochs=100,\n",
    "                    steps_per_epoch = 11160 // batch_size,\n",
    "                    validation_steps = 3870 // batch_size,\n",
    "                    validation_data=valid_set,\n",
    "                    callbacks=callbacks)"
   ]
  },
  {
   "cell_type": "code",
   "execution_count": 12,
   "metadata": {},
   "outputs": [
    {
     "data": {
      "image/png": "[encoded data removed]",
      "text/plain": [
       "<matplotlib.figure.Figure at 0x13cd98710>"
      ]
     },
     "metadata": {
      "needs_background": "light"
     },
     "output_type": "display_data"
    }
   ],
   "source": [
    "def plot_learning_curve(history):\n",
    "    pd.DataFrame(history.history).plot(figsize=(8,5))\n",
    "    plt.grid(True)\n",
    "    plt.gca().set_ylim(0,1)\n",
    "    plt.show()\n",
    "    \n",
    "plot_learning_curve(history)"
   ]
  },
  {
   "cell_type": "code",
   "execution_count": 13,
   "metadata": {},
   "outputs": [
    {
     "name": "stdout",
     "output_type": "stream",
     "text": [
      "161/161 [==============================] - 0s 1ms/step - loss: 0.3428\n"
     ]
    },
    {
     "data": {
      "text/plain": [
       "0.3427965116241704"
      ]
     },
     "execution_count": 13,
     "metadata": {},
     "output_type": "execute_result"
    }
   ],
   "source": [
    "model.evaluate(test_set, steps=5160 // batch_size)"
   ]
  },
  {
   "cell_type": "code",
   "execution_count": 14,
   "metadata": {},
   "outputs": [
    {
     "data": {
      "text/plain": [
       "3"
      ]
     },
     "execution_count": 14,
     "metadata": {},
     "output_type": "execute_result"
    }
   ],
   "source": [
    "10 // 3"
   ]
  },
  {
   "cell_type": "code",
   "execution_count": null,
   "metadata": {},
   "outputs": [],
   "source": []
  }
 ],
 "metadata": {
  "kernelspec": {
   "display_name": "Python 3",
   "language": "python",
   "name": "python3"
  },
  "language_info": {
   "codemirror_mode": {
    "name": "ipython",
    "version": 3
   },
   "file_extension": ".py",
   "mimetype": "text/x-python",
   "name": "python",
   "nbconvert_exporter": "python",
   "pygments_lexer": "ipython3",
   "version": "3.6.8"
  }
 },
 "nbformat": 4,
 "nbformat_minor": 2
}

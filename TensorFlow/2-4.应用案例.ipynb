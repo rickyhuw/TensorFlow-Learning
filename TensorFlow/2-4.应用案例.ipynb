{
 "cells": [
  {
   "cell_type": "code",
   "execution_count": 2,
   "metadata": {},
   "outputs": [],
   "source": [
    "import tensorflow as tf\n",
    "import numpy as np"
   ]
  },
  {
   "cell_type": "code",
   "execution_count": 14,
   "metadata": {},
   "outputs": [
    {
     "name": "stdout",
     "output_type": "stream",
     "text": [
      "0 [0.029650927, 0.051005006, 0.035625324]\n",
      "10 [0.10728817, 0.18691398, 8.657895e-05]\n",
      "20 [0.109689765, 0.19391908, 8.003947e-06]\n",
      "30 [0.10873834, 0.19486608, 6.158983e-06]\n",
      "40 [0.1077522, 0.1954614, 4.838341e-06]\n",
      "50 [0.10687149, 0.19597776, 3.8010885e-06]\n",
      "60 [0.106090575, 0.1964349, 2.9862172e-06]\n",
      "70 [0.105398394, 0.19684008, 2.3460227e-06]\n",
      "80 [0.104784876, 0.19719918, 1.8430881e-06]\n",
      "90 [0.104241095, 0.19751748, 1.4479757e-06]\n",
      "100 [0.1037591, 0.19779962, 1.1375553e-06]\n",
      "110 [0.103331886, 0.1980497, 8.936846e-07]\n",
      "120 [0.10295322, 0.19827135, 7.0209154e-07]\n",
      "130 [0.1026176, 0.1984678, 5.515795e-07]\n",
      "140 [0.102320105, 0.19864194, 4.3332963e-07]\n",
      "150 [0.10205642, 0.19879627, 3.404314e-07]\n",
      "160 [0.10182271, 0.19893308, 2.6744914e-07]\n",
      "170 [0.10161556, 0.19905433, 2.1011441e-07]\n",
      "180 [0.10143195, 0.19916181, 1.6506701e-07]\n",
      "190 [0.1012692, 0.19925708, 1.2967777e-07]\n",
      "200 [0.10112496, 0.1993415, 1.0187784e-07]\n"
     ]
    }
   ],
   "source": [
    "X = np.random.rand(100)\n",
    "# print(X)\n",
    "y = X * 0.1 + 0.2\n",
    "\n",
    "k = tf.Variable(0.)\n",
    "b = tf.Variable(0.)\n",
    "\n",
    "y_pred = k * X + b\n",
    "\n",
    "# define loss\n",
    "loss = tf.reduce_mean(tf.square(y - y_pred))\n",
    "\n",
    "# 优化器\n",
    "optimizer = tf.train.GradientDescentOptimizer(learning_rate=0.1)\n",
    "\n",
    "# 最小化loss\n",
    "train = optimizer.minimize(loss)\n",
    "init = tf.global_variables_initializer()\n",
    "\n",
    "with tf.Session() as sess:\n",
    "    sess.run(init)\n",
    "    for step in range(201):\n",
    "        sess.run(train)\n",
    "        if step % 10 == 0:\n",
    "            print(step,sess.run([k,b,loss]))"
   ]
  },
  {
   "cell_type": "code",
   "execution_count": null,
   "metadata": {},
   "outputs": [],
   "source": []
  }
 ],
 "metadata": {
  "kernelspec": {
   "display_name": "Python 3",
   "language": "python",
   "name": "python3"
  },
  "language_info": {
   "codemirror_mode": {
    "name": "ipython",
    "version": 3
   },
   "file_extension": ".py",
   "mimetype": "text/x-python",
   "name": "python",
   "nbconvert_exporter": "python",
   "pygments_lexer": "ipython3",
   "version": "3.6.8"
  }
 },
 "nbformat": 4,
 "nbformat_minor": 2
}

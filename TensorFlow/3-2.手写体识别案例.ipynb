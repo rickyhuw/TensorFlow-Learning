{
 "cells": [
  {
   "cell_type": "code",
   "execution_count": 3,
   "metadata": {},
   "outputs": [],
   "source": [
    "# 手写体识别数据集\n",
    "# http://yann.lecun.com/exdb/mnist/\n",
    "import tensorflow as tf\n",
    "from tensorflow.examples.tutorials.mnist import input_data"
   ]
  },
  {
   "cell_type": "code",
   "execution_count": 4,
   "metadata": {},
   "outputs": [
    {
     "name": "stdout",
     "output_type": "stream",
     "text": [
      "Successfully downloaded train-images-idx3-ubyte.gz 9912422 bytes.\n",
      "Extracting MNIST_data/train-images-idx3-ubyte.gz\n",
      "Successfully downloaded train-labels-idx1-ubyte.gz 28881 bytes.\n",
      "Extracting MNIST_data/train-labels-idx1-ubyte.gz\n",
      "Successfully downloaded t10k-images-idx3-ubyte.gz 1648877 bytes.\n",
      "Extracting MNIST_data/t10k-images-idx3-ubyte.gz\n",
      "Successfully downloaded t10k-labels-idx1-ubyte.gz 4542 bytes.\n",
      "Extracting MNIST_data/t10k-labels-idx1-ubyte.gz\n"
     ]
    }
   ],
   "source": [
    "mnist = input_data.read_data_sets('MNIST_data',one_hot=True)"
   ]
  },
  {
   "cell_type": "code",
   "execution_count": 8,
   "metadata": {},
   "outputs": [
    {
     "name": "stdout",
     "output_type": "stream",
     "text": [
      "epoch:0, Testing Accuracy:0.8339\n",
      "epoch:1, Testing Accuracy:0.8707\n",
      "epoch:2, Testing Accuracy:0.8812\n",
      "epoch:3, Testing Accuracy:0.8872\n",
      "epoch:4, Testing Accuracy:0.8934\n",
      "epoch:5, Testing Accuracy:0.897\n",
      "epoch:6, Testing Accuracy:0.8999\n",
      "epoch:7, Testing Accuracy:0.9019\n",
      "epoch:8, Testing Accuracy:0.9037\n",
      "epoch:9, Testing Accuracy:0.9052\n",
      "epoch:10, Testing Accuracy:0.906\n",
      "epoch:11, Testing Accuracy:0.907\n",
      "epoch:12, Testing Accuracy:0.9087\n",
      "epoch:13, Testing Accuracy:0.9083\n",
      "epoch:14, Testing Accuracy:0.9098\n",
      "epoch:15, Testing Accuracy:0.9106\n",
      "epoch:16, Testing Accuracy:0.9114\n",
      "epoch:17, Testing Accuracy:0.9122\n",
      "epoch:18, Testing Accuracy:0.9129\n",
      "epoch:19, Testing Accuracy:0.9128\n",
      "epoch:20, Testing Accuracy:0.9144\n"
     ]
    }
   ],
   "source": [
    "# batch\n",
    "batch_size = 100\n",
    "# 批次数\n",
    "n_batch = mnist.train.num_examples // batch_size\n",
    "\n",
    "# learning_rate\n",
    "learning_rate = 0.2\n",
    "\n",
    "# 占位符\n",
    "x = tf.placeholder(tf.float32,[None,784])\n",
    "y = tf.placeholder(tf.float32,[None,10])\n",
    "\n",
    "# 创建一个单层的神经网络\n",
    "W = tf.Variable(tf.zeros([784,10]))\n",
    "b = tf.Variable(tf.zeros([10]))\n",
    "\n",
    "prediction = tf.nn.softmax(tf.matmul(x,W) + b)\n",
    "\n",
    "# loss\n",
    "loss = tf.reduce_mean(tf.square(y - prediction))\n",
    "\n",
    "# train\n",
    "train_step = tf.train.GradientDescentOptimizer(learning_rate=learning_rate).minimize(loss)\n",
    "# init\n",
    "init = tf.global_variables_initializer()\n",
    "# accuracy\n",
    "correct_predictions = tf.equal(tf.arg_max(y,1),tf.arg_max(prediction,1))\n",
    "accuracy = tf.reduce_mean(tf.cast(correct_predictions,tf.float32))\n",
    "\n",
    "with tf.Session() as sess:\n",
    "    sess.run(init)\n",
    "    for epoch in range(21):\n",
    "        for batch in range(n_batch):\n",
    "            batch_xs,batch_ys = mnist.train.next_batch(batch_size)\n",
    "            sess.run(train_step,feed_dict={x:batch_xs,y:batch_ys})\n",
    "        acc = sess.run(accuracy,feed_dict={x:mnist.test.images,y:mnist.test.labels})\n",
    "        print('epoch:'+ str(epoch) + \", Testing Accuracy:\" + str(acc) )"
   ]
  },
  {
   "cell_type": "code",
   "execution_count": null,
   "metadata": {},
   "outputs": [],
   "source": []
  }
 ],
 "metadata": {
  "kernelspec": {
   "display_name": "Python 3",
   "language": "python",
   "name": "python3"
  },
  "language_info": {
   "codemirror_mode": {
    "name": "ipython",
    "version": 3
   },
   "file_extension": ".py",
   "mimetype": "text/x-python",
   "name": "python",
   "nbconvert_exporter": "python",
   "pygments_lexer": "ipython3",
   "version": "3.6.8"
  }
 },
 "nbformat": 4,
 "nbformat_minor": 2
}
